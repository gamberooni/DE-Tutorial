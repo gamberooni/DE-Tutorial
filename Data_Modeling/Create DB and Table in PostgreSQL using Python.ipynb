{
 "cells": [
  {
   "cell_type": "code",
   "execution_count": 40,
   "metadata": {},
   "outputs": [],
   "source": [
    "import psycopg2 as pg2"
   ]
  },
  {
   "cell_type": "code",
   "execution_count": 41,
   "metadata": {},
   "outputs": [],
   "source": [
    "# define parameters required to connect to PostgreSQL\n",
    "hostname = 'localhost'\n",
    "username = 'postgres'\n",
    "password = 'password'\n",
    "database = '' # specify db name if connecting to one\n",
    "conn = pg2.connect(host=hostname, user=username, password=password)"
   ]
  },
  {
   "cell_type": "code",
   "execution_count": 42,
   "metadata": {},
   "outputs": [],
   "source": [
    "cur = conn.cursor() # create a cursor object"
   ]
  },
  {
   "cell_type": "code",
   "execution_count": 43,
   "metadata": {},
   "outputs": [],
   "source": [
    "conn.set_session(autocommit=True) # "
   ]
  },
  {
   "cell_type": "code",
   "execution_count": 44,
   "metadata": {},
   "outputs": [],
   "source": [
    "cur.execute(\"CREATE DATABASE udacity\") # create a database called \"udacity\""
   ]
  },
  {
   "cell_type": "code",
   "execution_count": 50,
   "metadata": {},
   "outputs": [],
   "source": [
    "# create a table named \"songs\"\n",
    "create_table = \"CREATE TABLE IF NOT EXISTS songs( \\\n",
    "song_title varchar(200), \\\n",
    "artist_name varchar(200), \\\n",
    "year int, \\\n",
    "album_name varchar(200), \\\n",
    "single Boolean \\\n",
    ")\"\n",
    "cur.execute(create_table)"
   ]
  },
  {
   "cell_type": "code",
   "execution_count": 56,
   "metadata": {},
   "outputs": [],
   "source": [
    "# insert data into table\n",
    "cur.execute(\"INSERT INTO songs(song_title, artist_name, year, album_name, single) \\ \n",
    "            VALUES(%s, %s, %s, %s, %s)\", \\\n",
    "            (\"Across The Universe\", \"The Beatles\", 1970, \"Let It Be\", False))"
   ]
  },
  {
   "cell_type": "code",
   "execution_count": 57,
   "metadata": {},
   "outputs": [
    {
     "name": "stdout",
     "output_type": "stream",
     "text": [
      "[('Across The Universe', 'The Beatles', 1970, 'Let It Be', False)]\n"
     ]
    }
   ],
   "source": [
    "cur.execute(\"SELECT * FROM songs\")\n",
    "print(cur.fetchall())"
   ]
  },
  {
   "cell_type": "code",
   "execution_count": 37,
   "metadata": {},
   "outputs": [],
   "source": [
    "cur.close() # close the cursor before closing the connection"
   ]
  },
  {
   "cell_type": "code",
   "execution_count": 39,
   "metadata": {},
   "outputs": [],
   "source": [
    "conn.close() # close the connection"
   ]
  }
 ],
 "metadata": {
  "kernelspec": {
   "display_name": "Python 3",
   "language": "python",
   "name": "python3"
  },
  "language_info": {
   "codemirror_mode": {
    "name": "ipython",
    "version": 3
   },
   "file_extension": ".py",
   "mimetype": "text/x-python",
   "name": "python",
   "nbconvert_exporter": "python",
   "pygments_lexer": "ipython3",
   "version": "3.8.5"
  }
 },
 "nbformat": 4,
 "nbformat_minor": 4
}
