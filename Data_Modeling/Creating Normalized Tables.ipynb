{
 "cells": [
  {
   "cell_type": "code",
   "execution_count": null,
   "metadata": {},
   "outputs": [],
   "source": [
    "import psycopg2 as pg2"
   ]
  },
  {
   "cell_type": "code",
   "execution_count": null,
   "metadata": {},
   "outputs": [],
   "source": [
    "# define parameters required to connect to PostgreSQL\n",
    "hostname = 'localhost'\n",
    "username = 'postgres'\n",
    "password = 'password'\n",
    "database = 'udacity' # specify db name if connecting to one\n",
    "conn = pg2.connect(host=hostname, user=username, password=password, database=database)"
   ]
  },
  {
   "cell_type": "code",
   "execution_count": null,
   "metadata": {},
   "outputs": [],
   "source": [
    "cur = conn.cursor() # create a cursor object"
   ]
  },
  {
   "cell_type": "code",
   "execution_count": null,
   "metadata": {},
   "outputs": [],
   "source": [
    "conn.set_session(autocommit=True) # "
   ]
  },
  {
   "cell_type": "code",
   "execution_count": null,
   "metadata": {},
   "outputs": [],
   "source": [
    "# create a table named \"music_library\"\n",
    "create_table = \"CREATE TABLE IF NOT EXISTS music_library(\\\n",
    "album_id SERIAL,\\\n",
    "album_name VARCHAR(200),\\\n",
    "artist_name VARCHAR(200),\\\n",
    "year INT,\\\n",
    "songs TEXT[]);\"\n",
    "cur.execute(create_table)"
   ]
  },
  {
   "cell_type": "code",
   "execution_count": null,
   "metadata": {},
   "outputs": [],
   "source": [
    "# insert data into table\n",
    "cur.execute(\"INSERT INTO music_library(artist_name, album_name, year, songs)\\\n",
    "VALUES(%s, %s, %s, %s)\",\\\n",
    "('Rubber Soul', 'The Beatles', 1965, ['Michelle', 'Think For Yourself', 'In My Life']))"
   ]
  },
  {
   "cell_type": "code",
   "execution_count": null,
   "metadata": {},
   "outputs": [],
   "source": [
    "# insert data into table\n",
    "cur.execute(\"INSERT INTO music_library(artist_name, album_name, year, songs)\\\n",
    "VALUES(%s, %s, %s, %s)\",\\\n",
    "('Let It Be', 'The Beatles', 1970, ['Let It Be', 'Across The Universe']))"
   ]
  },
  {
   "cell_type": "code",
   "execution_count": null,
   "metadata": {},
   "outputs": [],
   "source": [
    "cur.execute(\"SELECT * FROM music_library\")"
   ]
  },
  {
   "cell_type": "code",
   "execution_count": null,
   "metadata": {},
   "outputs": [],
   "source": [
    "row = cur.fetchone()\n",
    "while row:\n",
    "    print(row)\n",
    "    row = cur.fetchone()"
   ]
  },
  {
   "cell_type": "code",
   "execution_count": null,
   "metadata": {},
   "outputs": [],
   "source": [
    "# Create a 1NF Table - no lists/sets/collections, all entries are unique\n",
    "# create a table named \"music_library2\"\n",
    "create_table = \"CREATE TABLE IF NOT EXISTS music_library2(\\\n",
    "album_id INT,\\\n",
    "album_name VARCHAR(200),\\\n",
    "artist_name VARCHAR(200),\\\n",
    "year INT,\\\n",
    "song_name VARCHAR(200));\"\n",
    "cur.execute(create_table)"
   ]
  },
  {
   "cell_type": "code",
   "execution_count": null,
   "metadata": {},
   "outputs": [],
   "source": [
    "# insert data into table\n",
    "cur.execute(\"INSERT INTO music_library2(album_id, artist_name, album_name, year, song_name)\\\n",
    "VALUES(%s, %s, %s, %s, %s)\",\\\n",
    "(1, 'Rubber Soul', 'The Beatles', 1965, 'Michelle'))\n",
    "\n",
    "cur.execute(\"INSERT INTO music_library2(album_id, artist_name, album_name, year, song_name)\\\n",
    "VALUES(%s, %s, %s, %s, %s)\",\\\n",
    "(1, 'Rubber Soul', 'The Beatles', 1965, 'Think For Yourself'))\n",
    "\n",
    "cur.execute(\"INSERT INTO music_library2(album_id, artist_name, album_name, year, song_name)\\\n",
    "VALUES(%s, %s, %s, %s, %s)\",\\\n",
    "(1, 'Rubber Soul', 'The Beatles', 1965, 'In My Life'))\n",
    "\n",
    "cur.execute(\"INSERT INTO music_library2(album_id, artist_name, album_name, year, song_name)\\\n",
    "VALUES(%s, %s, %s, %s, %s)\",\\\n",
    "(2, 'Let It Be', 'The Beatles', 1970, 'Across The Universe'))\n",
    "\n",
    "cur.execute(\"INSERT INTO music_library2(album_id, artist_name, album_name, year, song_name)\\\n",
    "VALUES(%s, %s, %s, %s, %s)\",\\\n",
    "(2, 'Let It Be', 'The Beatles', 1970, 'Let It Be'))"
   ]
  },
  {
   "cell_type": "code",
   "execution_count": null,
   "metadata": {},
   "outputs": [],
   "source": [
    "cur.execute(\"SELECT * FROM music_library2\")"
   ]
  },
  {
   "cell_type": "code",
   "execution_count": null,
   "metadata": {},
   "outputs": [],
   "source": [
    "row = cur.fetchone()\n",
    "while row:\n",
    "    print(row)\n",
    "    row = cur.fetchone()"
   ]
  },
  {
   "cell_type": "code",
   "execution_count": null,
   "metadata": {},
   "outputs": [],
   "source": [
    "# Create 2NF Tables - unique PK\n",
    "# create a table named \"album_library\"\n",
    "create_table = \"CREATE TABLE IF NOT EXISTS album_library(\\\n",
    "album_id SERIAL,\\\n",
    "album_name VARCHAR(200),\\\n",
    "artist_name VARCHAR(200),\\\n",
    "year INT);\"\n",
    "cur.execute(create_table)\n",
    "\n",
    "# create a table named \"song_library\"\n",
    "create_table = \"CREATE TABLE IF NOT EXISTS song_library(\\\n",
    "song_id SERIAL,\\\n",
    "song_name VARCHAR(200),\\\n",
    "album_id INT);\"\n",
    "cur.execute(create_table)"
   ]
  },
  {
   "cell_type": "code",
   "execution_count": null,
   "metadata": {},
   "outputs": [],
   "source": [
    "# insert data into artist_library table\n",
    "cur.execute(\"INSERT INTO album_library(album_name, artist_name, year)\\\n",
    "VALUES(%s, %s, %s)\",\\\n",
    "('Rubber Soul', 'The Beatles', 1965))\n",
    "\n",
    "cur.execute(\"INSERT INTO album_library(album_name, artist_name, year)\\\n",
    "VALUES(%s, %s, %s)\",\\\n",
    "('Let It Be', 'The Beatles', 1970))\n",
    "\n",
    "# insert data into song_library table\n",
    "cur.execute(\"INSERT INTO song_library(song_name, album_id)\\\n",
    "VALUES(%s, %s)\",\\\n",
    "('Michelle', 1))\n",
    "\n",
    "cur.execute(\"INSERT INTO song_library(song_name, album_id)\\\n",
    "VALUES(%s, %s)\",\\\n",
    "('Think For Yourself', 1))\n",
    "\n",
    "cur.execute(\"INSERT INTO song_library(song_name, album_id)\\\n",
    "VALUES(%s, %s)\",\\\n",
    "('In My Life', 1))\n",
    "\n",
    "cur.execute(\"INSERT INTO song_library(song_name, album_id)\\\n",
    "VALUES(%s, %s)\",\\\n",
    "('Across The Universe', 2))\n",
    "\n",
    "cur.execute(\"INSERT INTO song_library(song_name, album_id)\\\n",
    "VALUES(%s, %s)\",\\\n",
    "('Let It Be', 2))"
   ]
  },
  {
   "cell_type": "code",
   "execution_count": null,
   "metadata": {},
   "outputs": [],
   "source": [
    "cur.execute(\"SELECT * FROM album_library\")\n",
    "row = cur.fetchone()\n",
    "while row:\n",
    "    print(row)\n",
    "    row = cur.fetchone()\n",
    "\n",
    "print('\\n')\n",
    "    \n",
    "cur.execute(\"SELECT * FROM song_library\")\n",
    "row = cur.fetchone()\n",
    "while row:\n",
    "    print(row)\n",
    "    row = cur.fetchone()"
   ]
  },
  {
   "cell_type": "code",
   "execution_count": null,
   "metadata": {},
   "outputs": [],
   "source": [
    "# Test the created tables using JOIN\n",
    "cur.execute(\"SELECT * FROM album_library \\\n",
    "            JOIN song_library \\\n",
    "            ON album_library.album_id = song_library.album_id \\\n",
    "            WHERE album_library.album_id = 1\")\n",
    "\n",
    "row = cur.fetchone()\n",
    "while row:\n",
    "    print(row)\n",
    "    row = cur.fetchone()"
   ]
  },
  {
   "cell_type": "code",
   "execution_count": null,
   "metadata": {},
   "outputs": [],
   "source": [
    "# Create 3NF Tables - no transitive dependencies\n",
    "# create a table named \"album_library2\"\n",
    "create_table = \"CREATE TABLE IF NOT EXISTS album_library2(\\\n",
    "album_id SERIAL,\\\n",
    "album_name VARCHAR(200),\\\n",
    "year INT, \\\n",
    "artist_id INT);\"\n",
    "cur.execute(create_table)\n",
    "\n",
    "# create a table named \"song_library2\"\n",
    "create_table = \"CREATE TABLE IF NOT EXISTS song_library2(\\\n",
    "song_id SERIAL,\\\n",
    "song_name VARCHAR(200),\\\n",
    "album_id INT);\"\n",
    "cur.execute(create_table)\n",
    "\n",
    "# create a table named \"artist_library2\"\n",
    "create_table = \"CREATE TABLE IF NOT EXISTS artist_library2(\\\n",
    "artist_id SERIAL,\\\n",
    "artist_name VARCHAR(200));\"\n",
    "cur.execute(create_table)"
   ]
  },
  {
   "cell_type": "code",
   "execution_count": null,
   "metadata": {},
   "outputs": [],
   "source": [
    "# insert data into tables - order should be artist_library2, album_library2, song_library2\n",
    "# because PK IDs are of serial type - should check database after inserting to get\n",
    "# the FKs in other tables correct\n",
    "# insert data into artist_library2 table\n",
    "cur.execute(\"INSERT INTO artist_library2(artist_name)\\\n",
    "VALUES('The Beatles')\")\n",
    "\n",
    "#insert data into album_library2 table\n",
    "cur.execute(\"INSERT INTO album_library2(album_name, year, artist_id)\\\n",
    "VALUES(%s, %s, %s)\",\\\n",
    "('Rubber Soul', 1965, 1))\n",
    "\n",
    "cur.execute(\"INSERT INTO album_library2(album_name, year, artist_id)\\\n",
    "VALUES(%s, %s, %s)\",\\\n",
    "('Let It Be', 1970, 1))\n",
    "\n",
    "# insert data into song_library2 table\n",
    "cur.execute(\"INSERT INTO song_library2(song_name, album_id)\\\n",
    "VALUES(%s, %s)\",\\\n",
    "('Michelle', 1))\n",
    "\n",
    "cur.execute(\"INSERT INTO song_library2(song_name, album_id)\\\n",
    "VALUES(%s, %s)\",\\\n",
    "('Think For Yourself', 1))\n",
    "\n",
    "cur.execute(\"INSERT INTO song_library2(song_name, album_id)\\\n",
    "VALUES(%s, %s)\",\\\n",
    "('In My Life', 1))\n",
    "\n",
    "cur.execute(\"INSERT INTO song_library2(song_name, album_id)\\\n",
    "VALUES(%s, %s)\",\\\n",
    "('Let It Be', 2))\n",
    "\n",
    "cur.execute(\"INSERT INTO song_library2(song_name, album_id)\\\n",
    "VALUES(%s, %s)\",\\\n",
    "('Across The Universe', 2))"
   ]
  },
  {
   "cell_type": "code",
   "execution_count": null,
   "metadata": {},
   "outputs": [],
   "source": [
    "cur.execute(\"SELECT * FROM album_library2\")\n",
    "row = cur.fetchone()\n",
    "while row:\n",
    "    print(row)\n",
    "    row = cur.fetchone()\n",
    "\n",
    "print('\\n')\n",
    "    \n",
    "cur.execute(\"SELECT * FROM song_library2\")\n",
    "row = cur.fetchone()\n",
    "while row:\n",
    "    print(row)\n",
    "    row = cur.fetchone()\n",
    "    \n",
    "print('\\n')\n",
    "    \n",
    "cur.execute(\"SELECT * FROM artist_library2\")\n",
    "row = cur.fetchone()\n",
    "while row:\n",
    "    print(row)\n",
    "    row = cur.fetchone()    "
   ]
  },
  {
   "cell_type": "code",
   "execution_count": null,
   "metadata": {},
   "outputs": [],
   "source": [
    "cur.execute(\"SELECT * FROM song_library2 \\\n",
    "            JOIN album_library2 \\\n",
    "            ON song_library2.album_id = album_library2.album_id \\\n",
    "            JOIN artist_library2 \\\n",
    "            ON artist_library2.artist_id = album_library2.artist_id \\\n",
    "            WHERE album_library2.album_id = 1\")\n",
    "\n",
    "row = cur.fetchone()\n",
    "while row:\n",
    "    print(row)\n",
    "    row = cur.fetchone()"
   ]
  }
 ],
 "metadata": {
  "kernelspec": {
   "display_name": "Python 3",
   "language": "python",
   "name": "python3"
  },
  "language_info": {
   "codemirror_mode": {
    "name": "ipython",
    "version": 3
   },
   "file_extension": ".py",
   "mimetype": "text/x-python",
   "name": "python",
   "nbconvert_exporter": "python",
   "pygments_lexer": "ipython3",
   "version": "3.8.3"
  }
 },
 "nbformat": 4,
 "nbformat_minor": 4
}
